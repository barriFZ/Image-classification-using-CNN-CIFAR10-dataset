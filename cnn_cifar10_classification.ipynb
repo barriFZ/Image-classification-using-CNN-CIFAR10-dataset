{
  "nbformat": 4,
  "nbformat_minor": 0,
  "metadata": {
    "colab": {
      "provenance": []
    },
    "kernelspec": {
      "name": "python3",
      "display_name": "Python 3"
    },
    "language_info": {
      "name": "python"
    }
  },
  "cells": [
    {
      "cell_type": "markdown",
      "source": [
        "## **Image classification using CNN on CIFAR10 dataset**\n",
        "\n",
        "\n"
      ],
      "metadata": {
        "id": "9e9LgwevVmBx"
      }
    },
    {
      "cell_type": "markdown",
      "source": [
        "In this notebook, I will try the process of implementing CNN with Keras in order to classify images.\n",
        "\n",
        "\n"
      ],
      "metadata": {
        "id": "Lddg-lp7X0H5"
      }
    },
    {
      "cell_type": "markdown",
      "source": [
        "### **1-Firstly, we'll import usefull packages:**\n"
      ],
      "metadata": {
        "id": "cCUseMUHYCrw"
      }
    },
    {
      "cell_type": "code",
      "execution_count": null,
      "metadata": {
        "id": "cPnaI56Tmv7j"
      },
      "outputs": [],
      "source": [
        "import tensorflow as tf\n",
        "from tensorflow.keras import models,layers,datasets\n",
        "import matplotlib.pyplot as plt\n",
        "import numpy as np "
      ]
    },
    {
      "cell_type": "markdown",
      "source": [
        "### **2-Then, we'll load the data, before visualize and preprocess it:**\n"
      ],
      "metadata": {
        "id": "B5kQ-ykjYK4R"
      }
    },
    {
      "cell_type": "code",
      "source": [
        "(x_train,y_train),(x_test,y_test)=datasets.cifar10.load_data()\n"
      ],
      "metadata": {
        "colab": {
          "base_uri": "https://localhost:8080/"
        },
        "id": "MwNeh9O16JwS",
        "outputId": "b45b4b21-792f-40c7-d6a5-c5be38656b1e"
      },
      "execution_count": null,
      "outputs": [
        {
          "output_type": "stream",
          "name": "stdout",
          "text": [
            "Downloading data from https://www.cs.toronto.edu/~kriz/cifar-10-python.tar.gz\n",
            "170498071/170498071 [==============================] - 2s 0us/step\n"
          ]
        }
      ]
    },
    {
      "cell_type": "code",
      "source": [
        "print(x_train.shape)\n",
        "print(x_test.shape)"
      ],
      "metadata": {
        "colab": {
          "base_uri": "https://localhost:8080/"
        },
        "id": "UXE6IJLD6J7K",
        "outputId": "0901aa6e-32cd-439c-af43-cffe0c57543c"
      },
      "execution_count": null,
      "outputs": [
        {
          "output_type": "stream",
          "name": "stdout",
          "text": [
            "(50000, 32, 32, 3)\n",
            "(10000, 32, 32, 3)\n"
          ]
        }
      ]
    },
    {
      "cell_type": "code",
      "source": [
        "y_train[:5]"
      ],
      "metadata": {
        "colab": {
          "base_uri": "https://localhost:8080/"
        },
        "id": "qrDMZNAP6J9x",
        "outputId": "126f1359-23e6-4d83-ce73-d5f499ae4c2d"
      },
      "execution_count": null,
      "outputs": [
        {
          "output_type": "execute_result",
          "data": {
            "text/plain": [
              "array([[6],\n",
              "       [9],\n",
              "       [9],\n",
              "       [4],\n",
              "       [1]], dtype=uint8)"
            ]
          },
          "metadata": {},
          "execution_count": 7
        }
      ]
    },
    {
      "cell_type": "code",
      "source": [
        "y_train=y_train.astype(int)"
      ],
      "metadata": {
        "id": "YUXYl5zv6KAb"
      },
      "execution_count": null,
      "outputs": []
    },
    {
      "cell_type": "code",
      "source": [
        "y_train=y_train.reshape(-1,)\n",
        "y_train"
      ],
      "metadata": {
        "colab": {
          "base_uri": "https://localhost:8080/"
        },
        "id": "B4sVvJyEC3bT",
        "outputId": "16fd3669-da34-427e-9ef3-faba38003a2c"
      },
      "execution_count": null,
      "outputs": [
        {
          "output_type": "execute_result",
          "data": {
            "text/plain": [
              "array([6, 9, 9, ..., 9, 1, 1])"
            ]
          },
          "metadata": {},
          "execution_count": 24
        }
      ]
    },
    {
      "cell_type": "code",
      "source": [
        "classes=['airplane','automobile','bird','cat','deer','dog','frog','horse','ship','truck']"
      ],
      "metadata": {
        "id": "7SXG8TZI8oIq"
      },
      "execution_count": null,
      "outputs": []
    },
    {
      "cell_type": "code",
      "source": [
        "def plot_sample(x,y,index):\n",
        "  plt.figure(figsize=(2,2))\n",
        "  plt.imshow(x[index])\n",
        "  plt.xlabel(classes[y[index].astype(int)])\n"
      ],
      "metadata": {
        "id": "1b1UvXZ76KC-"
      },
      "execution_count": null,
      "outputs": []
    },
    {
      "cell_type": "code",
      "source": [
        "plot_sample(x_train,y_train,6)"
      ],
      "metadata": {
        "colab": {
          "base_uri": "https://localhost:8080/",
          "height": 237
        },
        "id": "2xwxE5GO6KGj",
        "outputId": "817a123f-512c-4733-e32b-d7a93751970b"
      },
      "execution_count": null,
      "outputs": [
        {
          "output_type": "display_data",
          "data": {
            "text/plain": [
              "<Figure size 200x200 with 1 Axes>"
            ],
            "image/png": "[encoded data removed]"
          },
          "metadata": {}
        }
      ]
    },
    {
      "cell_type": "code",
      "source": [
        "# normalizing data\n",
        "x_train=x_train/255\n",
        "x_test=x_test/255"
      ],
      "metadata": {
        "id": "puFWqCId8ZYT"
      },
      "execution_count": null,
      "outputs": []
    },
    {
      "cell_type": "markdown",
      "source": [
        "### **4-We'll try a simple ANN model and then we will evaluate its performances:**"
      ],
      "metadata": {
        "id": "TwsoNWK7Y5q6"
      }
    },
    {
      "cell_type": "code",
      "source": [
        "ann=models.Sequential([\n",
        "    layers.Flatten(input_shape=(32,32,3)),\n",
        "    layers.Dense(3000,activation='relu'),\n",
        "    layers.Dense(1000,activation='relu'),\n",
        "    layers.Dense(10,activation='sigmoid')]\n",
        "    )\n",
        "ann.compile(optimizer='adam',\n",
        "            loss='sparse_categorical_crossentropy',\n",
        "            metrics=['accuracy'])\n",
        "ann.fit(x_train,y_train,epochs=6)"
      ],
      "metadata": {
        "colab": {
          "base_uri": "https://localhost:8080/"
        },
        "id": "6N48CFGvFBNs",
        "outputId": "eb1c0c5b-591b-4ec3-b7ad-6a7d7f8aa28c"
      },
      "execution_count": null,
      "outputs": [
        {
          "output_type": "stream",
          "name": "stdout",
          "text": [
            "Epoch 1/6\n",
            "1563/1563 [==============================] - 347s 221ms/step - loss: 1.8808 - accuracy: 0.3286\n",
            "Epoch 2/6\n",
            "1563/1563 [==============================] - 366s 234ms/step - loss: 1.6541 - accuracy: 0.4059\n",
            "Epoch 3/6\n",
            "1563/1563 [==============================] - 309s 198ms/step - loss: 1.5752 - accuracy: 0.4352\n",
            "Epoch 4/6\n",
            "1563/1563 [==============================] - 296s 189ms/step - loss: 1.5276 - accuracy: 0.4528\n",
            "Epoch 5/6\n",
            "1563/1563 [==============================] - 306s 196ms/step - loss: 1.4860 - accuracy: 0.4660\n",
            "Epoch 6/6\n",
            "1563/1563 [==============================] - 331s 212ms/step - loss: 1.4555 - accuracy: 0.4801\n"
          ]
        },
        {
          "output_type": "execute_result",
          "data": {
            "text/plain": [
              "<keras.callbacks.History at 0x7feff8f6a680>"
            ]
          },
          "metadata": {},
          "execution_count": 39
        }
      ]
    },
    {
      "cell_type": "markdown",
      "source": [
        "### **4-We'll try a simple CNN model and then we will evaluate its performances:**\n",
        "\n",
        "---\n",
        "\n",
        "\n"
      ],
      "metadata": {
        "id": "kbUzECQhYuTP"
      }
    },
    {
      "cell_type": "code",
      "source": [
        "cnn=models.Sequential([\n",
        "    tf.keras.layers.Conv2D(8,(3,3),activation='relu',input_shape=(32,32,3)),\n",
        "    layers.MaxPooling2D(2,2),\n",
        "    tf.keras.layers.Conv2D(8,(3,3),activation='relu'),\n",
        "    layers.MaxPooling2D(2,2),  \n",
        "    tf.keras.layers.Flatten(),\n",
        "    tf.keras.layers.Dense(500,activation='relu'),\n",
        "    tf.keras.layers.Dense(10,activation='softmax')\n",
        "])\n",
        "\n",
        "cnn.compile(optimizer='adam',\n",
        "            loss='sparse_categorical_crossentropy',\n",
        "            metrics=['accuracy'])\n",
        "cnn.fit(x_train,y_train,epochs=6)"
      ],
      "metadata": {
        "colab": {
          "base_uri": "https://localhost:8080/"
        },
        "id": "AYJGrFjRFBv4",
        "outputId": "0739f2be-11ed-41f7-80a7-9f44bb77b16f"
      },
      "execution_count": null,
      "outputs": [
        {
          "output_type": "stream",
          "name": "stdout",
          "text": [
            "Epoch 1/6\n",
            "1563/1563 [==============================] - 37s 23ms/step - loss: 1.5562 - accuracy: 0.4363\n",
            "Epoch 2/6\n",
            "1563/1563 [==============================] - 34s 22ms/step - loss: 1.2984 - accuracy: 0.5356\n",
            "Epoch 3/6\n",
            "1563/1563 [==============================] - 34s 22ms/step - loss: 1.1781 - accuracy: 0.5821\n",
            "Epoch 4/6\n",
            "1563/1563 [==============================] - 35s 22ms/step - loss: 1.0900 - accuracy: 0.6165\n",
            "Epoch 5/6\n",
            "1563/1563 [==============================] - 33s 21ms/step - loss: 1.0131 - accuracy: 0.6447\n",
            "Epoch 6/6\n",
            "1563/1563 [==============================] - 35s 22ms/step - loss: 0.9379 - accuracy: 0.6742\n"
          ]
        },
        {
          "output_type": "execute_result",
          "data": {
            "text/plain": [
              "<keras.callbacks.History at 0x7feff54eac80>"
            ]
          },
          "metadata": {},
          "execution_count": 45
        }
      ]
    },
    {
      "cell_type": "code",
      "source": [
        "cnn.evaluate(x_test,y_test)"
      ],
      "metadata": {
        "colab": {
          "base_uri": "https://localhost:8080/"
        },
        "id": "Apw7jUI2FByg",
        "outputId": "d314d238-baa5-46ff-c3ff-e676cc825187"
      },
      "execution_count": null,
      "outputs": [
        {
          "output_type": "stream",
          "name": "stdout",
          "text": [
            "313/313 [==============================] - 4s 10ms/step - loss: 1.0874 - accuracy: 0.6318\n"
          ]
        },
        {
          "output_type": "execute_result",
          "data": {
            "text/plain": [
              "[1.0873547792434692, 0.6317999958992004]"
            ]
          },
          "metadata": {},
          "execution_count": 46
        }
      ]
    },
    {
      "cell_type": "code",
      "source": [
        "y_pred=cnn.predict(x_test)\n",
        "y_pred_classes=[np.argmax(element) for element in y_pred]"
      ],
      "metadata": {
        "colab": {
          "base_uri": "https://localhost:8080/"
        },
        "id": "EjOjNgT0FB1N",
        "outputId": "5e1f05f1-778d-4b3b-aa99-1505958b943d"
      },
      "execution_count": null,
      "outputs": [
        {
          "output_type": "stream",
          "name": "stdout",
          "text": [
            "313/313 [==============================] - 3s 9ms/step\n"
          ]
        }
      ]
    },
    {
      "cell_type": "code",
      "source": [
        "y_test=y_test.reshape(-1,)\n",
        "y_test[:5]"
      ],
      "metadata": {
        "colab": {
          "base_uri": "https://localhost:8080/"
        },
        "id": "x97yqqueFB4P",
        "outputId": "a47a0113-9157-425f-c7d6-886ed9748d26"
      },
      "execution_count": null,
      "outputs": [
        {
          "output_type": "execute_result",
          "data": {
            "text/plain": [
              "array([3, 8, 8, 0, 6], dtype=uint8)"
            ]
          },
          "metadata": {},
          "execution_count": 52
        }
      ]
    },
    {
      "cell_type": "code",
      "source": [
        "plot_sample(x_test,y_test,3)"
      ],
      "metadata": {
        "colab": {
          "base_uri": "https://localhost:8080/",
          "height": 237
        },
        "id": "eKRUAohrFB68",
        "outputId": "fdeb2f9f-d9a3-4cf1-9c26-09963d6f03a5"
      },
      "execution_count": null,
      "outputs": [
        {
          "output_type": "display_data",
          "data": {
            "text/plain": [
              "<Figure size 200x200 with 1 Axes>"
            ],
            "image/png": "[encoded data removed]"
          },
          "metadata": {}
        }
      ]
    },
    {
      "cell_type": "code",
      "source": [
        "classes[y_pred_classes[3]]"
      ],
      "metadata": {
        "colab": {
          "base_uri": "https://localhost:8080/",
          "height": 36
        },
        "id": "sUnbpE9dFB9s",
        "outputId": "017042af-8431-4e87-8c7d-4c7ae6628c45"
      },
      "execution_count": null,
      "outputs": [
        {
          "output_type": "execute_result",
          "data": {
            "text/plain": [
              "'airplane'"
            ],
            "application/vnd.google.colaboratory.intrinsic+json": {
              "type": "string"
            }
          },
          "metadata": {},
          "execution_count": 54
        }
      ]
    }
  ]
}